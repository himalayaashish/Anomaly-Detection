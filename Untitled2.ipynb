{
 "cells": [
  {
   "cell_type": "code",
   "execution_count": 2,
   "id": "e5774e93",
   "metadata": {},
   "outputs": [
    {
     "name": "stdout",
     "output_type": "stream",
     "text": [
      "Collecting fpdf\n",
      "  Downloading fpdf-1.7.2.tar.gz (39 kB)\n",
      "  Preparing metadata (setup.py) ... \u001b[?25ldone\n",
      "\u001b[?25hBuilding wheels for collected packages: fpdf\n",
      "  Building wheel for fpdf (setup.py) ... \u001b[?25ldone\n",
      "\u001b[?25h  Created wheel for fpdf: filename=fpdf-1.7.2-py2.py3-none-any.whl size=40702 sha256=db0ab543d6e2c69fcefe90f371573c2f07829b378864e8378d3d05149e90dc2d\n",
      "  Stored in directory: /Users/himalayaashish/Library/Caches/pip/wheels/6e/62/11/dc73d78e40a218ad52e7451f30166e94491be013a7850b5d75\n",
      "Successfully built fpdf\n",
      "Installing collected packages: fpdf\n",
      "Successfully installed fpdf-1.7.2\n"
     ]
    }
   ],
   "source": [
    "!pip install fpdf"
   ]
  },
  {
   "cell_type": "code",
   "execution_count": 4,
   "id": "9e2498b2",
   "metadata": {},
   "outputs": [
    {
     "data": {
      "text/plain": [
       "'Himalaya_Ashish_Cover_Letter_final.pdf'"
      ]
     },
     "execution_count": 4,
     "metadata": {},
     "output_type": "execute_result"
    }
   ],
   "source": [
    "from fpdf import FPDF\n",
    "\n",
    "# Final body of the letter, ensuring no special characters\n",
    "body = \"\"\"I am excited to apply for the [Job Title] position at Siemens. With over 11 years of experience in software engineering, \n",
    "specializing in machine learning (ML) and natural language processing (NLP), I have honed my ability to develop cutting-edge AI solutions \n",
    "from ideation to production. My expertise in building Generative AI and Retrieval-Augmented Generation (RAG) models, alongside my practical \n",
    "experience in leading technical workstreams, makes me confident that I would be a valuable addition to your team.\n",
    "\n",
    "At IBM Labs, I led the development of advanced AI systems, including chatbot solutions that leveraged LLMs, enhancing user engagement \n",
    "by 40%. I have hands-on experience with Python’s data science stack, including libraries such as NumPy, Pandas, and spaCy, and take \n",
    "pride in writing clean, reusable, and well-tested code. My work consistently bridges the gap between cutting-edge research and real-world \n",
    "applications, as demonstrated by my successful deployment of RAG models and the integration of machine learning capabilities into \n",
    "complex systems.\n",
    "\n",
    "I am particularly drawn to Siemens for its commitment to innovation and its forward-thinking approach in applying AI to solve real-world \n",
    "challenges. My proficiency in automation, system monitoring, and cloud-native applications, along with my familiarity with AWS, will allow \n",
    "me to contribute to Siemens' ambitious AI projects and infrastructure. Additionally, my desire to embrace new and emerging technologies \n",
    "aligns with your vision of continuous improvement and growth.\n",
    "\n",
    "I would welcome the opportunity to discuss how my background, skills, and experience align with the goals of Siemens. Please feel free to \n",
    "contact me at your convenience. Thank you for your time and consideration.\"\"\"\n",
    "\n",
    "# Replace non-standard characters\n",
    "body_fixed = body.replace('’', \"'\").replace('–', '-').replace('“', '\"').replace('”', '\"')\n",
    "\n",
    "# Create a new PDF object\n",
    "pdf = FPDF()\n",
    "\n",
    "# Add a page\n",
    "pdf.add_page()\n",
    "\n",
    "# Set title font\n",
    "pdf.set_font(\"Arial\", 'B', 16)\n",
    "\n",
    "# Title and contact details\n",
    "pdf.cell(200, 10, txt=\"Himalaya Ashish\", ln=True, align='C')\n",
    "pdf.set_font(\"Arial\", '', 12)\n",
    "pdf.cell(200, 10, txt=\"+91-9686600610\", ln=True, align='C')\n",
    "pdf.cell(200, 10, txt=\"himalayaashish@gmail.com\", ln=True, align='C')\n",
    "pdf.cell(200, 10, txt=\"LinkedIn | GitHub | Portfolio\", ln=True, align='C')\n",
    "\n",
    "# Add some space\n",
    "pdf.ln(10)\n",
    "\n",
    "# Date and recipient\n",
    "pdf.cell(200, 10, txt=\"Date: October 16, 2024\", ln=True, align='L')\n",
    "pdf.ln(10)\n",
    "pdf.cell(200, 10, txt=\"Hiring Manager\", ln=True, align='L')\n",
    "pdf.cell(200, 10, txt=\"SIEMENS\", ln=True, align='L')\n",
    "pdf.cell(200, 10, txt=\"[Company Address]\", ln=True, align='L')\n",
    "pdf.cell(200, 10, txt=\"[City, State, ZIP Code]\", ln=True, align='L')\n",
    "\n",
    "# Add some space\n",
    "pdf.ln(10)\n",
    "\n",
    "# Subject\n",
    "pdf.cell(200, 10, txt=\"Dear Hiring Manager,\", ln=True, align='L')\n",
    "\n",
    "# Add some space\n",
    "pdf.ln(10)\n",
    "\n",
    "# Adding the final body text\n",
    "pdf.multi_cell(0, 10, txt=body_fixed)\n",
    "\n",
    "# Closing\n",
    "pdf.ln(10)\n",
    "pdf.cell(200, 10, txt=\"Sincerely,\", ln=True, align='L')\n",
    "pdf.cell(200, 10, txt=\"Himalaya Ashish\", ln=True, align='L')\n",
    "\n",
    "# Save the pdf to a file\n",
    "output_path = \"Himalaya_Ashish_Cover_Letter_final.pdf\"\n",
    "pdf.output(output_path)\n",
    "\n",
    "# Output path\n",
    "output_path\n"
   ]
  },
  {
   "cell_type": "code",
   "execution_count": null,
   "id": "41d28b56",
   "metadata": {},
   "outputs": [],
   "source": []
  }
 ],
 "metadata": {
  "kernelspec": {
   "display_name": "Python 3 (ipykernel)",
   "language": "python",
   "name": "python3"
  },
  "language_info": {
   "codemirror_mode": {
    "name": "ipython",
    "version": 3
   },
   "file_extension": ".py",
   "mimetype": "text/x-python",
   "name": "python",
   "nbconvert_exporter": "python",
   "pygments_lexer": "ipython3",
   "version": "3.12.2"
  }
 },
 "nbformat": 4,
 "nbformat_minor": 5
}
